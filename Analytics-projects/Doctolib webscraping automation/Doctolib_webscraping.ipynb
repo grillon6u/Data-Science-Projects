{
  "cells": [
    {
      "cell_type": "code",
      "execution_count": 4,
      "metadata": {},
      "outputs": [
        {
          "name": "stdout",
          "output_type": "stream",
          "text": [
            "Requirement already satisfied: bs4 in c:\\users\\louis\\desktop\\data_science_projects\\.venv\\lib\\site-packages (0.0.1)\n",
            "Collecting requests\n",
            "  Obtaining dependency information for requests from https://files.pythonhosted.org/packages/70/8e/0e2d847013cb52cd35b38c009bb167a1a26b2ce6cd6965bf26b47bc0bf44/requests-2.31.0-py3-none-any.whl.metadata\n",
            "  Downloading requests-2.31.0-py3-none-any.whl.metadata (4.6 kB)\n",
            "Requirement already satisfied: beautifulsoup4 in c:\\users\\louis\\desktop\\data_science_projects\\.venv\\lib\\site-packages (from bs4) (4.12.2)\n",
            "Collecting charset-normalizer<4,>=2 (from requests)\n",
            "  Obtaining dependency information for charset-normalizer<4,>=2 from https://files.pythonhosted.org/packages/b7/5b/591989e2d3f79cafbcbd3c739677f55a966aa4d32542e15029431df8cbb0/charset_normalizer-3.3.0-cp38-cp38-win_amd64.whl.metadata\n",
            "  Downloading charset_normalizer-3.3.0-cp38-cp38-win_amd64.whl.metadata (33 kB)\n",
            "Collecting idna<4,>=2.5 (from requests)\n",
            "  Downloading idna-3.4-py3-none-any.whl (61 kB)\n",
            "     ---------------------------------------- 0.0/61.5 kB ? eta -:--:--\n",
            "     ---------------------------------------- 61.5/61.5 kB ? eta 0:00:00\n",
            "Collecting urllib3<3,>=1.21.1 (from requests)\n",
            "  Obtaining dependency information for urllib3<3,>=1.21.1 from https://files.pythonhosted.org/packages/26/40/9957270221b6d3e9a3b92fdfba80dd5c9661ff45a664b47edd5d00f707f5/urllib3-2.0.6-py3-none-any.whl.metadata\n",
            "  Downloading urllib3-2.0.6-py3-none-any.whl.metadata (6.6 kB)\n",
            "Collecting certifi>=2017.4.17 (from requests)\n",
            "  Obtaining dependency information for certifi>=2017.4.17 from https://files.pythonhosted.org/packages/4c/dd/2234eab22353ffc7d94e8d13177aaa050113286e93e7b40eae01fbf7c3d9/certifi-2023.7.22-py3-none-any.whl.metadata\n",
            "  Downloading certifi-2023.7.22-py3-none-any.whl.metadata (2.2 kB)\n",
            "Requirement already satisfied: soupsieve>1.2 in c:\\users\\louis\\desktop\\data_science_projects\\.venv\\lib\\site-packages (from beautifulsoup4->bs4) (2.5)\n",
            "Downloading requests-2.31.0-py3-none-any.whl (62 kB)\n",
            "   ---------------------------------------- 0.0/62.6 kB ? eta -:--:--\n",
            "   ---------------------------------------- 62.6/62.6 kB ? eta 0:00:00\n",
            "Downloading certifi-2023.7.22-py3-none-any.whl (158 kB)\n",
            "   ---------------------------------------- 0.0/158.3 kB ? eta -:--:--\n",
            "   ---------------------------------------- 158.3/158.3 kB 9.9 MB/s eta 0:00:00\n",
            "Downloading charset_normalizer-3.3.0-cp38-cp38-win_amd64.whl (97 kB)\n",
            "   ---------------------------------------- 0.0/97.6 kB ? eta -:--:--\n",
            "   ---------------------------------------- 97.6/97.6 kB ? eta 0:00:00\n",
            "Downloading urllib3-2.0.6-py3-none-any.whl (123 kB)\n",
            "   ---------------------------------------- 0.0/123.8 kB ? eta -:--:--\n",
            "   ---------------------------------------- 123.8/123.8 kB ? eta 0:00:00\n",
            "Installing collected packages: urllib3, idna, charset-normalizer, certifi, requests\n",
            "Successfully installed certifi-2023.7.22 charset-normalizer-3.3.0 idna-3.4 requests-2.31.0 urllib3-2.0.6\n"
          ]
        }
      ],
      "source": [
        "! pip install bs4 requests\n"
      ]
    },
    {
      "cell_type": "code",
      "execution_count": 5,
      "metadata": {
        "id": "mCw4hQExoJsu"
      },
      "outputs": [],
      "source": [
        "from bs4 import BeautifulSoup\n",
        "import requests\n",
        "import smtplib\n",
        "from email.mime.text import MIMEText\n",
        "import os"
      ]
    },
    {
      "cell_type": "code",
      "execution_count": 7,
      "metadata": {
        "id": "ki5qNxsJwyVa"
      },
      "outputs": [],
      "source": [
        "#Doctolib was too difficult to webscrape.\n",
        "max_page=6 #note that when trying a page that doesn'e exist, it will return to the max page\n",
        "#Here we try to use ameli to just list all the doctors. The goal is to identify new ones.\n",
        "#We use that website: http://annuairesante.ameli.fr/. Then we identify the curl query and translate it to python to get the folowwing code:\n",
        "cookies = {\n",
        "    'infosoins': '9cqblkppgphqhvss8rqbro4gr1',\n",
        "    'AmeliDirectPersist': '1265688887.42527.0000',\n",
        "    'TS01b76c1f': '0139dce0d2309c1b62267a5fa37193e9af95cb9cd46f528ab6c1960da123c71684939ea8b977a88c7e19d6c2b883d1dc64be8dd221',\n",
        "    'xtvrn': '$475098$',\n",
        "}\n",
        "\n",
        "headers = {\n",
        "    'Accept': 'text/html,application/xhtml+xml,application/xml;q=0.9,image/avif,image/webp,image/apng,*/*;q=0.8,application/signed-exchange;v=b3;q=0.7',\n",
        "    'Accept-Language': 'fr-FR,fr;q=0.9,en-US;q=0.8,en;q=0.7',\n",
        "    'Cache-Control': 'max-age=0',\n",
        "    'Connection': 'keep-alive',\n",
        "    # 'Cookie': 'infosoins=9cqblkppgphqhvss8rqbro4gr1; AmeliDirectPersist=1265688887.42527.0000; TS01b76c1f=0139dce0d2309c1b62267a5fa37193e9af95cb9cd46f528ab6c1960da123c71684939ea8b977a88c7e19d6c2b883d1dc64be8dd221; xtvrn=$475098$',\n",
        "    'Upgrade-Insecure-Requests': '1',\n",
        "    'User-Agent': 'Mozilla/5.0 (Windows NT 10.0; Win64; x64) AppleWebKit/537.36 (KHTML, like Gecko) Chrome/118.0.0.0 Safari/537.36',\n",
        "}"
      ]
    },
    {
      "cell_type": "code",
      "execution_count": 8,
      "metadata": {
        "colab": {
          "base_uri": "https://localhost:8080/"
        },
        "id": "eIhW_ywF5fex",
        "outputId": "68cdbed8-332f-4139-83be-73165fd9b23c"
      },
      "outputs": [
        {
          "name": "stdout",
          "output_type": "stream",
          "text": [
            "['ROSA BERNARD', 'MACIOVAN ADINA', 'NAESEH WAEL', 'PAITA FRANCK', 'DUGUE CAMILLE', 'RIGAUD DENIS', 'SILLARD PATRICK', 'ROCH PHILIPPE', 'COURSIERES XAVIER', 'MOLLIET POTTIER DOMINIQUE', 'BOURRIER DIDIER', 'CHEDEAU GUY', 'AIME ARMAND', 'ABBOU BOUBEKER', 'BELBAL KARIMA', 'BRAMI PHILIPPE', 'ZAIDAN NAIME', 'BUTAVAND ALEXIS', 'ESCALLE EMMANUEL', 'BERTHET FRANCOIS', 'CONFESSORE CIRO', 'CHANDELIER PIERRE', 'LECOMTE PHILIPPE', 'FOREST FREDERIC', 'PETITJEAN OLIVIER', 'CHARVIEUX BAPTISTE', 'HORVATH MICHEL', 'HUAUME HADRIEN', 'DUCHOSAL CHRISTOPHE', 'ZREIKA ALAIN', 'PAQUIRIMOIDINE RAHMAN', 'COURBIN PAUL', 'KAMBOUA MOUNIR', 'ELHADDAD AHMED', 'EYENGA PIERRE', 'COURBIN PAUL', 'QUESTIAUX HELENE', 'KAMBOUA MOUNIR', 'MERINE SASSI MOHAMED', 'ELHADDAD AHMED', 'BALLAND ANNICK', 'MERINE SASSI MOHAMED', 'BALLAND ANNICK', 'BOUABIDA MOKHTAR', 'EYENGA PIERRE', 'PAQUIRIMOIDINE RAHMAN', 'QUESTIAUX HELENE', 'BOURGIN YVES', 'CURVAT CHRISTIAN', 'CURVAT CHRISTIAN', 'ZREIKA ALAIN', 'JAVELLE BERNARD', 'SITTARAME PASCALE', 'APRI JEAN CHRISTOPHE', 'VINCENT PHILIPPE', 'ABDI LOTFI', 'BRUNET VINCENT', 'MACIOVAN ADINA', 'TECHENEY NICOLAS', 'JOURDAN ALLAN', 'CHARVIEUX BAPTISTE', 'SIMON VICTOIRE', 'PELLOUX CORINNE', 'GAGIU ION NICOLAE', 'PEYRET GILLES', 'VALLENET JEAN PAUL', 'PASCA CONSTANTA', 'PELLOUX CORINNE', 'RADOSAV LOREDANA', 'SEVESSAND CLAIRE', 'BLANCHARD AGNES', 'PUTHOD EMILIE', 'CHAPPUIS DANIELE', 'BRACHET LAURE', 'CHANSON CELINE', 'MACHEDA DAVID', 'QUANTINET CELINE', 'BRARD ROMAIN', 'DECHAMBOUX PIERRE', 'HANAFI ZINEB', 'VENTURINI OLIVIER', 'CANNELLE ALEXANDRE', 'SINAMOUNTRY KHAMPHENG', 'PATTE CINDY', 'NOLLET MARINE', 'VERJADE HELENE', 'VERDAN ROULET SANDRINE', 'PIERRON JULIEN', 'FREYSS MICHEL', 'DUCHOSAL CATHERINE', 'DUCHOSAL CHRISTOPHE', 'FRANZONI GABRIELLE', 'HOCH SYLVAINE', 'BOYREAU MATTHIEU', 'FAUCHERRE BERGE ALIX', 'BURNET FLORENT', 'VUARAND LAURE', 'VUARAND LAURE', 'BOUVRAIS MATTHIEU', 'DOULCET PHILIPPE']\n"
          ]
        }
      ],
      "source": [
        "current_names=[]\n",
        "for i in range (1, max_page):\n",
        "  #print(i)\n",
        "  response = requests.get(\n",
        "    'http://annuairesante.ameli.fr/professionnels-de-sante/recherche/liste-resultats-page-'+str(i)+'-par_page-20-tri-distance_asc.html',\n",
        "    cookies=cookies,\n",
        "    headers=headers,\n",
        "    verify=False,\n",
        "  )\n",
        "  soup = BeautifulSoup(response.content, \"html.parser\")\n",
        "  all_professionals = soup.find_all(\"div\", class_=\"nom_pictos\")\n",
        "  for element in all_professionals:\n",
        "    # Find the <a> element within the current element\n",
        "    anchor_element = element.find('a')\n",
        "\n",
        "    # Extract the text from the <a> element\n",
        "    name_parts = [text for text in anchor_element.stripped_strings]\n",
        "    final_name = \" \".join(name_parts)\n",
        "    #print(final_name)\n",
        "    current_names.append(final_name)\n",
        "print(current_names)"
      ]
    },
    {
      "cell_type": "code",
      "execution_count": 11,
      "metadata": {
        "colab": {
          "base_uri": "https://localhost:8080/"
        },
        "id": "3PbUipgH6nR0",
        "outputId": "feb27642-705f-41c0-8429-e4abc802de3e"
      },
      "outputs": [
        {
          "name": "stdout",
          "output_type": "stream",
          "text": [
            "['ROSA BERNARD', 'MACIOVAN ADINA', 'NAESEH WAEL', 'PAITA FRANCK', 'DUGUE CAMILLE', 'RIGAUD DENIS', 'SILLARD PATRICK', 'ROCH PHILIPPE', 'COURSIERES XAVIER', 'MOLLIET POTTIER DOMINIQUE', 'BOURRIER DIDIER', 'CHEDEAU GUY', 'AIME ARMAND', 'ABBOU BOUBEKER', 'BELBAL KARIMA', 'BRAMI PHILIPPE', 'ZAIDAN NAIME', 'BUTAVAND ALEXIS', 'ESCALLE EMMANUEL', 'BERTHET FRANCOIS', 'CONFESSORE CIRO', 'CHANDELIER PIERRE', 'LECOMTE PHILIPPE', 'FOREST FREDERIC', 'PETITJEAN OLIVIER', 'CHARVIEUX BAPTISTE', 'HORVATH MICHEL', 'HUAUME HADRIEN', 'DUCHOSAL CHRISTOPHE', 'ZREIKA ALAIN', 'PAQUIRIMOIDINE RAHMAN', 'COURBIN PAUL', 'KAMBOUA MOUNIR', 'ELHADDAD AHMED', 'EYENGA PIERRE', 'COURBIN PAUL', 'QUESTIAUX HELENE', 'KAMBOUA MOUNIR', 'MERINE SASSI MOHAMED', 'ELHADDAD AHMED', 'BALLAND ANNICK', 'MERINE SASSI MOHAMED', 'BALLAND ANNICK', 'BOUABIDA MOKHTAR', 'EYENGA PIERRE', 'PAQUIRIMOIDINE RAHMAN', 'QUESTIAUX HELENE', 'BOURGIN YVES', 'CURVAT CHRISTIAN', 'CURVAT CHRISTIAN', 'ZREIKA ALAIN', 'JAVELLE BERNARD', 'SITTARAME PASCALE', 'APRI JEAN CHRISTOPHE', 'VINCENT PHILIPPE', 'ABDI LOTFI', 'BRUNET VINCENT', 'MACIOVAN ADINA', 'TECHENEY NICOLAS', 'JOURDAN ALLAN', 'CHARVIEUX BAPTISTE', 'SIMON VICTOIRE', 'PELLOUX CORINNE', 'GAGIU ION NICOLAE', 'PEYRET GILLES', 'VALLENET JEAN PAUL', 'PASCA CONSTANTA', 'PELLOUX CORINNE', 'RADOSAV LOREDANA', 'SEVESSAND CLAIRE', 'BLANCHARD AGNES', 'PUTHOD EMILIE', 'CHAPPUIS DANIELE', 'BRACHET LAURE', 'CHANSON CELINE', 'MACHEDA DAVID', 'QUANTINET CELINE', 'BRARD ROMAIN', 'DECHAMBOUX PIERRE', 'HANAFI ZINEB', 'VENTURINI OLIVIER', 'CANNELLE ALEXANDRE', 'SINAMOUNTRY KHAMPHENG', 'PATTE CINDY', 'NOLLET MARINE', 'VERJADE HELENE', 'VERDAN ROULET SANDRINE', 'PIERRON JULIEN', 'FREYSS MICHEL', 'DUCHOSAL CATHERINE', 'DUCHOSAL CHRISTOPHE', 'FRANZONI GABRIELLE', 'HOCH SYLVAINE', 'BOYREAU MATTHIEU', 'FAUCHERRE BERGE ALIX', 'BURNET FLORENT', 'VUARAND LAURE', 'VUARAND LAURE', 'BOUVRAIS MATTHIEU', 'DOULCET PHILIPPE']\n"
          ]
        }
      ],
      "source": [
        "#Here we read the last saved list of names\n",
        "# empty list to read list from a file\n",
        "old_names = []\n",
        "\n",
        "# open file and read the content in a list\n",
        "if os.path.exists('docs.txt'):\n",
        "    with open(r'docs.txt', 'r') as fp:\n",
        "        for line in fp:\n",
        "            # remove linebreak from a current name\n",
        "            # linebreak is the last character of each line\n",
        "            x = line[:-1]\n",
        "\n",
        "            # add current item to the list\n",
        "            old_names.append(x)\n",
        "\n",
        "# display list\n",
        "print(old_names)"
      ]
    },
    {
      "cell_type": "code",
      "execution_count": 12,
      "metadata": {
        "colab": {
          "base_uri": "https://localhost:8080/"
        },
        "id": "cYTXJhKX6sUK",
        "outputId": "59157930-5afb-41da-9e0e-b3201973768d"
      },
      "outputs": [
        {
          "data": {
            "text/plain": [
              "[]"
            ]
          },
          "execution_count": 12,
          "metadata": {},
          "output_type": "execute_result"
        }
      ],
      "source": [
        "#Here we compare and find new elements\n",
        "new_names = [name for name in current_names if name not in old_names]\n",
        "new_names"
      ]
    },
    {
      "cell_type": "code",
      "execution_count": null,
      "metadata": {},
      "outputs": [],
      "source": [
        "#Here we send an email\n",
        "\n",
        "# Gmail configuration\n",
        "SMTP_SERVER = 'smtp.gmail.com'\n",
        "#SMTP_PORT = 587  # Use 465 for SSL\n",
        "SMTP_PORT = 465  # Use 465 for SSL\n",
        "SMTP_USERNAME = 'louis.grillon@telecomnancy.net'  # Replace with your Gmail\n",
        "SMTP_PASSWORD = ''  # Replace with your Gmail password or App Password\n",
        "FROM_EMAIL = 'louis.grillon@telecomnancy.net'  # Replace with your Gmail\n",
        "TO_EMAIL = 'louis.grillon@telecomnancy.net'  # Replace with recipient's email\n",
        "\n",
        "def send_email(subject, message):\n",
        "    msg = MIMEText(message)\n",
        "    msg['Subject'] = subject\n",
        "    msg['From'] = FROM_EMAIL\n",
        "    msg['To'] = TO_EMAIL\n",
        "\n",
        "    server = smtplib.SMTP_SSL(SMTP_SERVER, SMTP_PORT)\n",
        "    #server.starttls()\n",
        "    server.login(SMTP_USERNAME, SMTP_PASSWORD)\n",
        "    server.sendmail(FROM_EMAIL, TO_EMAIL, msg.as_string())\n",
        "    server.quit()\n",
        "\n",
        "# Check for results and send appropriate email\n",
        "if not new_names:\n",
        "    send_email(\"No New Names\", \"No result\")\n",
        "    print('Empty email sent successfully!')\n",
        "else:\n",
        "    send_email(\"New Names Found\", \", \".join(new_names))\n",
        "    print('Email with new doctors sent successfully!')"
      ]
    },
    {
      "cell_type": "code",
      "execution_count": 10,
      "metadata": {
        "id": "aC0G-Uk-7euc"
      },
      "outputs": [
        {
          "name": "stdout",
          "output_type": "stream",
          "text": [
            "Done\n"
          ]
        }
      ],
      "source": [
        "#Here we save the new version of names\n",
        "with open(r'docs.txt', 'w') as fp:\n",
        "    for item in current_names:\n",
        "        # write each item on a new line\n",
        "        fp.write(\"%s\\n\" % item)\n",
        "    print('Done')"
      ]
    }
  ],
  "metadata": {
    "colab": {
      "provenance": []
    },
    "kernelspec": {
      "display_name": "Python 3",
      "name": "python3"
    },
    "language_info": {
      "codemirror_mode": {
        "name": "ipython",
        "version": 3
      },
      "file_extension": ".py",
      "mimetype": "text/x-python",
      "name": "python",
      "nbconvert_exporter": "python",
      "pygments_lexer": "ipython3",
      "version": "3.8.0"
    }
  },
  "nbformat": 4,
  "nbformat_minor": 0
}
